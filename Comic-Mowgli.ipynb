{
 "cells": [
  {
   "cell_type": "markdown",
   "id": "854ba6ce",
   "metadata": {},
   "source": [
    "# Assignment- 3, Group- 17\n",
    "\n",
    "## Mowgli: Legend of the Jungle\n",
    "\n",
    "**Submitted by: Aditi Krishna**\n",
    "\n",
    "The assignment is dedicated to my family dog who was named after our protagonist, Mowgli!\n",
    "\n",
    "Most days he also thinks that he is a wolf. But well, he's a Cockapoo...\n"
   ]
  },
  {
   "cell_type": "code",
   "execution_count": null,
   "id": "01ecdc44",
   "metadata": {},
   "outputs": [],
   "source": [
    "import os\n",
    "os.chdir(\"C:/Users/krish/Documents/Northeastern University/Fall \\'21/INFO 6105 DSE/Comic book homework/images\")"
   ]
  },
  {
   "cell_type": "code",
   "execution_count": null,
   "id": "8521803f",
   "metadata": {},
   "outputs": [],
   "source": [
    "pwd()"
   ]
  },
  {
   "cell_type": "markdown",
   "id": "52068772",
   "metadata": {},
   "source": [
    "### Displaying images"
   ]
  },
  {
   "cell_type": "code",
   "execution_count": null,
   "id": "64e282d9",
   "metadata": {},
   "outputs": [],
   "source": [
    "from PIL import Image as pili, ImageOps as piliops\n",
    "from IPython.display import Image\n",
    "\n",
    "\n",
    "for file in os.listdir(os.getcwd()):\n",
    "    if(file.endswith(\".png\")):\n",
    "        display(Image(filename=file, width=400))\n",
    "        continue\n",
    "    else:\n",
    "        continue"
   ]
  },
  {
   "cell_type": "markdown",
   "id": "416b2ce2",
   "metadata": {},
   "source": [
    "### Adding a border\n",
    "\n",
    "Using `PIL` library"
   ]
  },
  {
   "cell_type": "code",
   "execution_count": null,
   "id": "fbaac20b",
   "metadata": {},
   "outputs": [],
   "source": [
    "from PIL import Image as pili, ImageOps as piliops\n",
    "\n",
    "for file in os.listdir(os.getcwd()):\n",
    "    if(file.endswith(\".png\")):\n",
    "        piliops.expand(pili.open(file), border=(25,25),fill='black').save(file)"
   ]
  },
  {
   "cell_type": "markdown",
   "id": "9dfc92d8",
   "metadata": {},
   "source": [
    "### Displaying images with border"
   ]
  },
  {
   "cell_type": "code",
   "execution_count": null,
   "id": "8b6a5d62",
   "metadata": {},
   "outputs": [],
   "source": [
    "from PIL import Image as pili, ImageOps as piliops\n",
    "from IPython.display import Image\n",
    "\n",
    "for file in os.listdir(os.getcwd()):\n",
    "    if(file.endswith(\".png\")):\n",
    "        display(Image(filename=file, width=400))\n",
    "        continue\n",
    "    else:\n",
    "        continue"
   ]
  },
  {
   "cell_type": "markdown",
   "id": "0cbc9176",
   "metadata": {},
   "source": [
    "## Hindi version!\n"
   ]
  },
  {
   "cell_type": "markdown",
   "id": "9df52baf",
   "metadata": {},
   "source": [
    "### Reading dialogues with PANDAS"
   ]
  },
  {
   "cell_type": "code",
   "execution_count": null,
   "id": "ba24a53a",
   "metadata": {},
   "outputs": [],
   "source": [
    "import pandas as pd\n",
    "dialogs = pd.read_excel(\"C:/Users/krish/Documents/Northeastern University/Fall \\'21/INFO 6105 DSE/Comic book homework/hindi.xlsx\")\n",
    "dialogs.head(10)"
   ]
  },
  {
   "cell_type": "code",
   "execution_count": null,
   "id": "71e789db",
   "metadata": {},
   "outputs": [],
   "source": [
    "import numpy as np\n",
    "dialogs.values[0][0]"
   ]
  },
  {
   "cell_type": "code",
   "execution_count": null,
   "id": "52694072",
   "metadata": {},
   "outputs": [],
   "source": [
    "total_dialogs = len(dialogs.index)\n",
    "print(total_dialogs)"
   ]
  },
  {
   "cell_type": "markdown",
   "id": "3143dada",
   "metadata": {},
   "source": [
    "### Text overlays with Unicode fonts\n",
    "Multi-line text with opaque background. Unicode font required to support Hindi"
   ]
  },
  {
   "cell_type": "code",
   "execution_count": null,
   "id": "09f62b04",
   "metadata": {
    "scrolled": true
   },
   "outputs": [],
   "source": [
    "from PIL import Image as pili, ImageDraw as pild, ImageFont as pilf, ImageFilter\n",
    "import os\n",
    "# textoverlay\n",
    "\n",
    "# caption = dialogs.values[0][0]\n",
    "\n",
    "TINT_COLOR = (0, 0, 0)  # Black\n",
    "TRANSPARENCY = .00  # Degree of transparency, 0-100%\n",
    "OPACITY = int(255 * TRANSPARENCY)\n",
    "\n",
    "os.chdir(\"C:/Users/krish/Documents/Northeastern University/Fall \\'21/INFO 6105 DSE/Comic book homework/images/withDialogs\")\n",
    "\n",
    "i = 0\n",
    "    \n",
    "for file in os.listdir(os.getcwd()):\n",
    "    if( i < total_dialogs):\n",
    "        img = pili.open(file).convert('RGBA')\n",
    "        overlay = pili.new('RGBA', img.size, TINT_COLOR+(0,))\n",
    "        draw = pild.Draw(overlay)\n",
    "        caption = dialogs.values[i][0]\n",
    "        text = caption \n",
    "        num_lines = len(text.split('\\n')) \n",
    "        font_size = 50\n",
    "        stroke_color = (0,0,0)\n",
    "        unicode_font = pilf.truetype(\"C:/Users/krish/Downloads/hindi-fonts/hindi fonts/hindi fonts/aparajbi.ttf\", font_size)\n",
    "        w, h = unicode_font.getsize(text)\n",
    "        x, y = 100, img.height - (num_lines-0.1*num_lines)*h\n",
    "        draw.rectangle((x, y, x + img.width - 200, y + (num_lines-0.75*num_lines)*h), fill=TINT_COLOR+(OPACITY,))\n",
    "        draw.text((x, y), text, fill=(225, 173, 0), font=unicode_font, stroke_width=2, stroke_fill=stroke_color)\n",
    "        # Alpha composite these two images together to obtain the desired result\n",
    "        img = pili.alpha_composite(img, overlay) \n",
    "        img = img.convert(\"RGB\") # Remove alpha for saving in jpg format\n",
    "        img.save(file)\n",
    "        i=i+1\n",
    "    continue"
   ]
  },
  {
   "cell_type": "markdown",
   "id": "6f1832d9",
   "metadata": {},
   "source": [
    "### Stitching images \n",
    "\n",
    "Aim is to generate horizontal strips of 3 images, and then stacking them as vertical strips of 5. \n",
    "\n",
    "That gives us $3 x 5 = 18$ images per page.\n",
    "\n",
    "I decided to put only 18 photos on one page to improve readability of text."
   ]
  },
  {
   "cell_type": "code",
   "execution_count": null,
   "id": "bb1475df",
   "metadata": {},
   "outputs": [],
   "source": [
    "import os\n",
    "os.chdir(\"C:/Users/krish/Documents/Northeastern University/Fall \\'21/INFO 6105 DSE/Comic book homework/images/withDialogs\")\n",
    "\n",
    "imglist = os.listdir(os.getcwd())\n",
    "print(imglist)\n",
    "len(imglist)"
   ]
  },
  {
   "cell_type": "markdown",
   "id": "7384abe9",
   "metadata": {},
   "source": [
    "#### Horizontal Stitch"
   ]
  },
  {
   "cell_type": "code",
   "execution_count": null,
   "id": "8ef9ce06",
   "metadata": {},
   "outputs": [],
   "source": [
    "listIndex = list()\n",
    "for i in imglist:\n",
    "    listIndex.append(imglist.index(i))\n",
    "print(listIndex)\n",
    "\n",
    "for i in listIndex:\n",
    "    listIndex2=listIndex[::3]\n",
    "print(listIndex2)"
   ]
  },
  {
   "cell_type": "code",
   "execution_count": null,
   "id": "9926a7cb",
   "metadata": {},
   "outputs": [],
   "source": [
    "# Horizontal stitch\n",
    "\n",
    "import numpy as np\n",
    "import PIL\n",
    "\n",
    "\n",
    "for i in listIndex2:\n",
    "    # number of images in horizontal stitch\n",
    "    offset=3 \n",
    "    \n",
    "    list_im = imglist[i:i+offset]\n",
    "    \n",
    "    imgs    = [ PIL.Image.open(i) for i in list_im ]\n",
    "    \n",
    "    # pick the image which is the smallest, and resize the others to match it (can be arbitrary image shape here)\n",
    "    min_shape = sorted( [(np.sum(i.size), i.size ) for i in imgs])[0][1]\n",
    "    imgs_comb = np.hstack( (np.asarray( i.resize(min_shape) ) for i in imgs ) )\n",
    "    \n",
    "    # save that beautiful picture\n",
    "    imgs_comb = PIL.Image.fromarray(imgs_comb)\n",
    "    imgs_comb.save('hstitch'+str(i)+'.png')"
   ]
  },
  {
   "cell_type": "markdown",
   "id": "e03faaec",
   "metadata": {},
   "source": [
    "#### Vertical stitch"
   ]
  },
  {
   "cell_type": "code",
   "execution_count": null,
   "id": "d281a50e",
   "metadata": {},
   "outputs": [],
   "source": [
    "# creating list of .png files in the englishVersion folder that starts with 'hstitch'\n",
    "\n",
    "items = os.listdir(os.getcwd())\n",
    "hstrip = list()\n",
    "for name in items:\n",
    "    if name.startswith('hstitch'):\n",
    "        hstrip.append(name)\n",
    "\n",
    "# list of indices\n",
    "listHorizontal = list()\n",
    "for strip in hstrip:\n",
    "    listHorizontal.append(hstrip.index(strip))\n",
    "print(listHorizontal)\n",
    "\n",
    "# we want to stack every 6 images vertically \n",
    "# getting starting index position for all horizontal strip images\n",
    "listIndexVertical = list()\n",
    "for i in listHorizontal:\n",
    "    listIndexVertical = listHorizontal[::6]\n",
    "print(listIndexVertical)\n",
    "\n",
    "print(hstrip)\n"
   ]
  },
  {
   "cell_type": "code",
   "execution_count": null,
   "id": "146e9c82",
   "metadata": {},
   "outputs": [],
   "source": [
    "# vertical stitch\n",
    "\n",
    "for i in listIndexVertical:\n",
    "    # number of images in horizontal stitch\n",
    "    offset=6 \n",
    "    \n",
    "    list_im = hstrip[i:i+offset]\n",
    "    imgs    = [ PIL.Image.open(i) for i in list_im ]\n",
    "    # pick the image which is the smallest, and resize the others to match it (can be arbitrary image shape here)\n",
    "    min_shape = sorted( [(np.sum(im.size), im.size ) for im in imgs])[0][1]\n",
    "    imgs_comb = np.vstack( (np.asarray( im.resize(min_shape) ) for im in imgs ) )\n",
    "    # save that beautiful picture\n",
    "    imgs_comb = PIL.Image.fromarray( imgs_comb)\n",
    "    imgs_comb.save('vstrip'+str(i)+'.png' )\n"
   ]
  },
  {
   "cell_type": "code",
   "execution_count": null,
   "id": "3f1625ae",
   "metadata": {},
   "outputs": [],
   "source": [
    "pwd()"
   ]
  },
  {
   "cell_type": "markdown",
   "id": "f9781525",
   "metadata": {},
   "source": [
    "### Publishing comic as PDF!"
   ]
  },
  {
   "cell_type": "code",
   "execution_count": null,
   "id": "4e2ab319",
   "metadata": {},
   "outputs": [],
   "source": [
    "from PIL import Image\n",
    "from fpdf import FPDF\n",
    "\n",
    "#pdf = FPDF()\n",
    "cover = Image.open(\"C:/Users/krish/Documents/Northeastern University/Fall \\'21/INFO 6105 DSE/Comic book homework/images/Mowgli_cover4.jpg\")\n",
    "width, height = cover.size\n",
    "pdf = FPDF(unit = \"pt\", format = [width, height])\n",
    "    \n",
    "# imagelist is the list with all image filenames\n",
    "imagelist = ['vstrip0.png', \n",
    "             'vstrip6.png', \n",
    "             'vstrip12.png', \n",
    "             'vstrip18.png']\n",
    "\n",
    "for image in imagelist:\n",
    "    pdf.add_page()\n",
    "    pdf.image(image, 0, 0, width, height)\n",
    "pdf.output(\"Mowgli_Hindi.pdf\", \"F\")\n",
    "print(\"Done!\")"
   ]
  },
  {
   "cell_type": "markdown",
   "id": "cc10ebda",
   "metadata": {},
   "source": [
    "## English Version!"
   ]
  },
  {
   "cell_type": "markdown",
   "id": "75bb439e",
   "metadata": {},
   "source": [
    "### Reading dialogues with PANDAS"
   ]
  },
  {
   "cell_type": "code",
   "execution_count": null,
   "id": "7216cd6e",
   "metadata": {},
   "outputs": [],
   "source": [
    "import pandas as pd\n",
    "dialogs = pd.read_excel(\"C:/Users/krish/Documents/Northeastern University/Fall \\'21/INFO 6105 DSE/Comic book homework/english.xlsx\")\n",
    "dialogs.head(10)"
   ]
  },
  {
   "cell_type": "markdown",
   "id": "7bbf17f3",
   "metadata": {},
   "source": [
    "### Text overlays"
   ]
  },
  {
   "cell_type": "code",
   "execution_count": null,
   "id": "67c3f31e",
   "metadata": {},
   "outputs": [],
   "source": [
    "from PIL import Image as pili, ImageDraw as pild, ImageFont as pilf, ImageFilter\n",
    "import os\n",
    "# textoverlay\n",
    "\n",
    "TINT_COLOR = (0, 0, 0)  # Black\n",
    "TRANSPARENCY = .00  # Degree of transparency, 0-100%\n",
    "OPACITY = int(255 * TRANSPARENCY)\n",
    "\n",
    "os.chdir(\"C:/Users/krish/Documents/Northeastern University/Fall \\'21/INFO 6105 DSE/Comic book homework/images/englishVersion\")\n",
    "\n",
    "i = 0\n",
    "    \n",
    "for file in os.listdir(os.getcwd()):\n",
    "    if( i < total_dialogs):\n",
    "        img = pili.open(file).convert('RGBA')\n",
    "        overlay = pili.new('RGBA', img.size, TINT_COLOR+(0,))\n",
    "        draw = pild.Draw(overlay)\n",
    "        caption = dialogs.values[i][0]\n",
    "        text = caption \n",
    "        num_lines = len(text.split('\\n')) \n",
    "        font_size = 50\n",
    "        stroke_color = (0,0,0)\n",
    "        unicode_font = pilf.truetype(\"C:/windows/fonts/gara.ttf\", font_size)\n",
    "        # using Garamond font, used in Quentin Tarantino movies!\n",
    "        w, h = unicode_font.getsize(text)\n",
    "        x, y = 100, img.height - (num_lines-0.1*num_lines)*h\n",
    "        draw.rectangle((x, y, x + img.width - 200, y + (num_lines-0.75*num_lines)*h), fill=TINT_COLOR+(OPACITY,))\n",
    "        draw.text((x, y), text, fill=(225, 173, 0), font=unicode_font, stroke_width=2, stroke_fill=stroke_color)\n",
    "        # Alpha composite these two images together to obtain the desired result\n",
    "        img = pili.alpha_composite(img, overlay) \n",
    "        img = img.convert(\"RGB\") # Remove alpha for saving in jpg format\n",
    "        img.save(file)\n",
    "        i=i+1\n",
    "    continue"
   ]
  },
  {
   "cell_type": "markdown",
   "id": "5d79c73d",
   "metadata": {},
   "source": [
    "### Stitching of images"
   ]
  },
  {
   "cell_type": "markdown",
   "id": "38edad0f",
   "metadata": {},
   "source": [
    "#### Horizontal Stitch"
   ]
  },
  {
   "cell_type": "code",
   "execution_count": null,
   "id": "8e1cf8be",
   "metadata": {},
   "outputs": [],
   "source": [
    "# using the same listIndex2 list and imglist list, previously used for the horizontal stitch of the Hindi version\n",
    "\n",
    "import numpy as np\n",
    "import PIL\n",
    "\n",
    "\n",
    "for i in listIndex2:\n",
    "    # number of images in horizontal stitch\n",
    "    offset=3 \n",
    "    \n",
    "    list_im = imglist[i:i+offset]\n",
    "    \n",
    "    imgs    = [ PIL.Image.open(i) for i in list_im ]\n",
    "    \n",
    "    # pick the image which is the smallest, and resize the others to match it (can be arbitrary image shape here)\n",
    "    min_shape = sorted( [(np.sum(i.size), i.size ) for i in imgs])[0][1]\n",
    "    imgs_comb = np.hstack( (np.asarray( i.resize(min_shape) ) for i in imgs ) )\n",
    "    \n",
    "    # save that beautiful picture\n",
    "    imgs_comb = PIL.Image.fromarray(imgs_comb)\n",
    "    imgs_comb.save('hstitch'+str(i)+'.png')"
   ]
  },
  {
   "cell_type": "markdown",
   "id": "ccf76126",
   "metadata": {},
   "source": [
    "#### Vertical Stitch"
   ]
  },
  {
   "cell_type": "code",
   "execution_count": null,
   "id": "a389bade",
   "metadata": {},
   "outputs": [],
   "source": [
    "items = os.listdir(os.getcwd())\n",
    "# creating list of .png files in the englishVersion folder that starts with 'hstitch'\n",
    "hstrip = list()\n",
    "for name in items:\n",
    "    if name.startswith('hstitch'):\n",
    "        hstrip.append(name)\n",
    "    \n",
    "# list of indices    \n",
    "listHorizontal = list()\n",
    "for strip in hstrip:\n",
    "    listHorizontal.append(hstrip.index(strip))\n",
    "print(listHorizontal)\n",
    "\n",
    "# we want to stack every 6 images vertically \n",
    "# getting starting index position for all horizontal strip images\n",
    "listIndexVertical = list()\n",
    "for i in listHorizontal:\n",
    "    listIndexVertical = listHorizontal[::6]\n",
    "print(listIndexVertical)\n",
    "\n",
    "print(hstrip)"
   ]
  },
  {
   "cell_type": "code",
   "execution_count": null,
   "id": "874cf412",
   "metadata": {},
   "outputs": [],
   "source": [
    "# vertical stitch\n",
    "\n",
    "# using the same listIndexVertical list and hstrip list, previously used for the vertical stitch of Hindi version\n",
    "\n",
    "for i in listIndexVertical:\n",
    "    # number of images in horizontal stitch\n",
    "    offset=6 \n",
    "    \n",
    "    list_im = hstrip[i:i+offset]\n",
    "    \n",
    "    imgs    = [ PIL.Image.open(i) for i in list_im ]\n",
    "    \n",
    "    # pick the image which is the smallest, and resize the others to match it (can be arbitrary image shape here)\n",
    "    min_shape = sorted( [(np.sum(im.size), im.size ) for im in imgs])[0][1]\n",
    "    imgs_comb = np.vstack( (np.asarray( im.resize(min_shape) ) for im in imgs ) )\n",
    "    \n",
    "    # save that beautiful picture\n",
    "    imgs_comb = PIL.Image.fromarray( imgs_comb)\n",
    "    imgs_comb.save('vstrip'+str(i)+'.png' )"
   ]
  },
  {
   "cell_type": "markdown",
   "id": "5ce32ac4",
   "metadata": {},
   "source": [
    "### Publishing comic as a PDF!"
   ]
  },
  {
   "cell_type": "code",
   "execution_count": null,
   "id": "6c3525b3",
   "metadata": {},
   "outputs": [],
   "source": [
    "from PIL import Image\n",
    "from fpdf import FPDF\n",
    "\n",
    "#pdf = FPDF()\n",
    "cover = Image.open(\"C:/Users/krish/Documents/Northeastern University/Fall \\'21/INFO 6105 DSE/Comic book homework/images/Mowgli_cover4.jpg\")\n",
    "width, height = cover.size\n",
    "pdf = FPDF(unit = \"pt\", format = [width, height])\n",
    "    \n",
    "# imagelist is the list with all image filenames\n",
    "imagelist = ['vstrip0.png', \n",
    "             'vstrip6.png', \n",
    "             'vstrip12.png', \n",
    "             'vstrip18.png']\n",
    "\n",
    "for image in imagelist:\n",
    "    pdf.add_page()\n",
    "    pdf.image(image, 0, 0, width, height)\n",
    "pdf.output(\"Mowgli_English.pdf\", \"F\")\n",
    "print(\"Done!\")"
   ]
  },
  {
   "cell_type": "markdown",
   "id": "6c16464b",
   "metadata": {},
   "source": [
    "## Hope you enjoyed the comic! "
   ]
  },
  {
   "cell_type": "code",
   "execution_count": null,
   "id": "79faa279",
   "metadata": {},
   "outputs": [],
   "source": []
  }
 ],
 "metadata": {
  "kernelspec": {
   "display_name": "Python 3 (ipykernel)",
   "language": "python",
   "name": "python3"
  },
  "language_info": {
   "codemirror_mode": {
    "name": "ipython",
    "version": 3
   },
   "file_extension": ".py",
   "mimetype": "text/x-python",
   "name": "python",
   "nbconvert_exporter": "python",
   "pygments_lexer": "ipython3",
   "version": "3.8.8"
  }
 },
 "nbformat": 4,
 "nbformat_minor": 5
}
